{
 "cells": [
  {
   "cell_type": "markdown",
   "metadata": {},
   "source": [
    "# Ejercicio 6.11: sobre relajación\n",
    "\n",
    "Si aún no realizó el ejercicio 6.10, debe hacerlo antes de este. El método de relajación ordinario implica iterar la ecuación x '= f (x), comenzando desde una suposición inicial, hasta que converja. Como hemos visto, esta es a menudo una forma rápida y fácil de encontrar soluciones a ecuaciones no lineales. Sin embargo, en algunos casos es posible hacer el método trabaje aún más rápido utilizando la técnica de sobre relajación. Supongamos que nuestra conjetura inicial en la solución de una ecuación particular es, digamos, x = 1, y la solución verdadera final es x = 5. Después del primer paso del proceso iterativo, podríamos ver un valor de, digamos, x = 3. En el método de sobre relajación, observamos este valor y observamos que x está aumentando, luego deliberadamente sobrepasamos el valor calculado valor, con la esperanza de que esto nos acerque a la solución final, en este caso podríamos pasar sobre x = 3 e ir directamente a un valor de x = 4 quizás, que está más cerca de la solución final de x = 5 y, por lo tanto, debería llevarnos a esa solución más rápido. El método de sobre relajación proporciona un fórmula para realizar este tipo de rebosamiento de manera controlada y, a menudo, aunque no siempre, nos lleva a nuestra solución más rápido. En detalle, funciona de la siguiente manera. Podemos reescribir la ecuación x ′ = f (x) en la forma x ′ = x + ∆x, donde…\n",
    "\n",
    "\\begin{equation}\n",
    "\\Delta x=x'-x=f(x)-x\n",
    "\\end{equation}\n",
    "\n",
    "El método de sobre relajación implica la iteración de la ecuación modificada.\n",
    "\n",
    "\\begin{equation}\n",
    "x'=x+(1+w)\\Delta x\n",
    "\\end{equation}\n",
    "\n",
    "(manteniendo la definición de ∆x igual). Si el parámetro ω es cero, entonces es el mismo que el método de relajación ordinario, pero para ω> 0 el método toma la cantidad ∆x por la cual el valor de x habría cambiado y cambia un poco más. \n",
    "Usando ∆x = f (x) - x, también podemos escribir x ′ como\n",
    "\n",
    "\\begin{equation}\n",
    "x'=x+(1+w)\\left [ f(x)-x \\right ]=(1+w)f(x)-wx\n",
    "\\end{equation}\n",
    "\n",
    "cual es la forma en que generalmente se escribe.\n",
    "\n",
    "Para que el método funcione, el valor de ω debe elegirse correctamente, aunque hay algo de margen de maniobra: hay un valor óptimo, pero otros valores cercanos también suelen dar buenos resultados. Desafortunadamente, no existe una teoría general que nos diga cuál es el valor óptimo. Por lo general, se encuentra por prueba y error.\n",
    "\n",
    "a) Derive un equivalente de la ecuación. (6.81) para el método de sobre relajación y, por lo tanto, muestra que el error en x ', el equivalente de la ecuación. (6.83), viene dado por:\n",
    "$$\n",
    "\\varepsilon'=\\frac{x-x'}{1-1/\\left [ (1+w)f'(x)-w \\right ]}\n",
    "$$\n",
    "\n",
    "b) Considere nuevamente la ecuación x = 1 - e - cx que resolvimos en el ejercicio 6.10. Tome el programa que escribió para la parte (a) de ese ejercicio, que resolvió la ecuación para el caso c = 2, y modifíquelo para imprimir el número de iteraciones necesarias para converger en una solución precisa de 10 – 6.\n",
    "\n",
    "c) Ahora escriba un nuevo programa (o modifique el anterior) para resolver la misma ecuación x = 1 - e - cx para c = 2, nuevamente con una precisión de 10 - 6, pero esta vez usando sobrerelajamiento. Haga que su programa imprima las respuestas que encuentre junto con la cantidad de iteraciones que tomó para encontrarlas. Experimente con diferentes valores de ω para ver qué tan rápido puede lograr que el método converja. Un valor de ω = 0.5 es un punto de partida razonable. Con un poco de prueba y error, debería poder hacer que el cálculo converja aproximadamente el doble de rápido que el método de relajación simple, es decir, en aproximadamente la mitad de las iteraciones.\n",
    "\n",
    "d) ¿Hay alguna circunstancia bajo la cual usar un valor ω <0 nos ayudaría a encontrar una solución más rápido de lo que podemos con el método de relajación ordinario? (Sugerencia: la respuesta es sí, pero ¿por qué?)\n"
   ]
  },
  {
   "cell_type": "markdown",
   "metadata": {},
   "source": [
    "# solucion parte a\n",
    "\n",
    "Partiendo de la definicion de $x^{*}$\n",
    "\n",
    "\\begin{equation}\n",
    "x^{*}=x'+\\varepsilon'  \\\\\n",
    "\\end{equation}\n",
    "\n",
    "Ahora, conociendo el valor de $x{}'$ para el metodo de super relajacion\n",
    "\n",
    "\\begin{equation}\n",
    "x'=(1+\\omega)f(x)-\\omega x\n",
    "\\end{equation}\n",
    "\n",
    "Reemplazando $x{}'$ en $x^{*}$, obtenemos\n",
    "\n",
    "\\begin{equation}\n",
    "x^{*}=(1+\\omega)f(x)-\\omega x+\\varepsilon'\\\\\n",
    "f'(x^{*})=(1+\\omega)f'(x)-\\omega\n",
    "\\end{equation}\n",
    "\n",
    "Reescribiendo para obtner un estimado de $\\varepsilon' $ Ec.6.83\n",
    "\n",
    "\\begin{equation}\n",
    "\\varepsilon' =\\frac{x-x^{*}}{1-\\frac{1}{f'(x^{*})}}\n",
    "\\end{equation}\n",
    "\n",
    "Reemplazando los valores encontrados obtenemos\n",
    "\\begin{equation}\n",
    "\\varepsilon'=\\frac{x-x^{*}}{1-\\frac{1}{(1+\\omega)f'(x)-\\omega}}\n",
    "\\end{equation}"
   ]
  },
  {
   "cell_type": "code",
   "execution_count": 2,
   "metadata": {},
   "outputs": [],
   "source": [
    "from math import tanh, cosh,exp\n",
    "from numpy import linspace\n",
    "from pylab import plot, show, ylim, xlabel, ylabel"
   ]
  },
  {
   "cell_type": "markdown",
   "metadata": {},
   "source": [
    "# solucion parte b "
   ]
  },
  {
   "cell_type": "code",
   "execution_count": 10,
   "metadata": {},
   "outputs": [
    {
     "name": "stdout",
     "output_type": "stream",
     "text": [
      "el valor a que converje la solucion de la ecuacion: 0.7968126311118457\n",
      "el numero de interacciones necesarias es: 14\n"
     ]
    }
   ],
   "source": [
    "#constantes\n",
    "c=2\n",
    "points=1000\n",
    "tolerancia=1e-6\n",
    "y=[]\n",
    "m1=1\n",
    "i=0\n",
    "error=1\n",
    " #minimizacion del error\n",
    "while error>tolerancia:\n",
    "    m1,m2=1-exp(-c*m1),m1\n",
    "    error=abs((m1-m2)/(1-((1/c)*(exp(c*m2)))))\n",
    "    y.append(m1)\n",
    "    i=i+1\n",
    "print(\"el valor a que converje la solucion de la ecuacion:\",m1)\n",
    "print(\"el numero de interacciones necesarias es:\",i)\n",
    "#plot(y)\n",
    "#show()\n",
    "      "
   ]
  },
  {
   "cell_type": "markdown",
   "metadata": {},
   "source": [
    " # solucion parte c"
   ]
  },
  {
   "cell_type": "code",
   "execution_count": 5,
   "metadata": {},
   "outputs": [
    {
     "name": "stdout",
     "output_type": "stream",
     "text": [
      "el valor a que converje la solucion de la ecuacion: 0.7968123729832619\n",
      "el numero de interacciones necesarias es: 4\n"
     ]
    }
   ],
   "source": [
    "#constantes\n",
    "c=2\n",
    "w=0.5\n",
    "points=1000\n",
    "tolerancia=1e-6\n",
    "y=[]\n",
    "m1=1\n",
    "error=1\n",
    " #minimizacion del error\n",
    "while error>tolerancia:\n",
    "    m1,m2=(1+w)*(1-exp(-c*m1))-w*m1,m1\n",
    "    error=abs((m1-m2)/(1-(1/((c*exp(-c*m2))+(w*c*exp(-c*m2))-w))))\n",
    "    y.append(m1)\n",
    "    \n",
    "print(\"el valor a que converje la solucion de la ecuacion:\",m1)\n",
    "print(\"el numero de interacciones necesarias es:\",len(y))\n",
    "#plot(y)\n",
    "#show()"
   ]
  },
  {
   "cell_type": "markdown",
   "metadata": {},
   "source": [
    "# solucion parte d\n",
    "\n",
    "si existe una solucion para la cual w puede ser negativa, esto teniendo en cuenta que este método se puede utilizar para diferentes ecuaciones, tambien sabemos que no existe un valor fijo de w que optimice el numero de interaciones para la solución de todas las funciones, asi que por tal razon puede que existan ecuaciones  que al ingresar un valor  de w>0 el numero de interaciones sean demaciadas y el gasto coputacional aumente,por lo que tocaria  recurrir a valores de w<0, para  que el numero de iteraciones se reduzca y se encuentre la solución de la ecuacion."
   ]
  },
  {
   "cell_type": "code",
   "execution_count": null,
   "metadata": {},
   "outputs": [],
   "source": []
  }
 ],
 "metadata": {
  "kernelspec": {
   "display_name": "Python 3",
   "language": "python",
   "name": "python3"
  },
  "language_info": {
   "codemirror_mode": {
    "name": "ipython",
    "version": 3
   },
   "file_extension": ".py",
   "mimetype": "text/x-python",
   "name": "python",
   "nbconvert_exporter": "python",
   "pygments_lexer": "ipython3",
   "version": "3.7.3"
  }
 },
 "nbformat": 4,
 "nbformat_minor": 2
}
